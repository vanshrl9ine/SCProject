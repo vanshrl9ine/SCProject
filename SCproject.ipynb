{
 "cells": [
  {
   "cell_type": "code",
   "execution_count": 1,
   "id": "42231ef1",
   "metadata": {},
   "outputs": [],
   "source": [
    "import numpy as np"
   ]
  },
  {
   "cell_type": "code",
   "execution_count": 2,
   "id": "40c72c4f-2e55-4ee0-a74f-ea625780b3a4",
   "metadata": {},
   "outputs": [],
   "source": [
    "def calculate_total_distance(sequence, distance_matrix):\n",
    "    total_distance = 0\n",
    "    for i in range(len(sequence) - 1):\n",
    "        total_distance += distance_matrix[sequence[i]][sequence[i + 1]]\n",
    "    total_distance += distance_matrix[sequence[-1]][sequence[0]]  # Return to the starting city\n",
    "    return total_distance"
   ]
  },
  {
   "cell_type": "code",
   "execution_count": 3,
   "id": "8adc1286",
   "metadata": {},
   "outputs": [],
   "source": [
    "\n",
    "def initialize_population(num_chromosomes, num_cities):\n",
    "    population = []\n",
    "    for _ in range(num_chromosomes):\n",
    "        sequence = np.random.permutation(num_cities)\n",
    "        population.append(sequence)\n",
    "    return population\n"
   ]
  },
  {
   "cell_type": "code",
   "execution_count": 4,
   "id": "e16a4e51",
   "metadata": {},
   "outputs": [],
   "source": [
    "\n",
    "def roulette_wheel_selection(population, fitness_values):\n",
    "    probabilities = fitness_values / sum(fitness_values)\n",
    "    selected_indices = np.random.choice(len(population), size=len(population), p=probabilities)\n",
    "    return [population[i] for i in selected_indices]\n",
    "\n"
   ]
  },
  {
   "cell_type": "code",
   "execution_count": 5,
   "id": "a9e41af9-c72f-4405-94dd-0db0dde8c5d8",
   "metadata": {},
   "outputs": [],
   "source": [
    "def crossover(parent1, parent2):\n",
    "    crossover_point = np.random.randint(1, len(parent1))\n",
    "    child1 = np.concatenate((parent1[:crossover_point], [city for city in parent2 if city not in parent1[:crossover_point]]))\n",
    "    child2 = np.concatenate((parent2[:crossover_point], [city for city in parent1 if city not in parent2[:crossover_point]]))\n",
    "    return child1, child2\n",
    "\n"
   ]
  },
  {
   "cell_type": "code",
   "execution_count": 6,
   "id": "d3fb22d2-c301-4e51-b34d-43e5c080f889",
   "metadata": {},
   "outputs": [],
   "source": [
    "\n",
    "def genetic_algorithm(distance_matrix, num_iterations, num_chromosomes):\n",
    "    num_cities = len(distance_matrix)\n",
    "    population = initialize_population(num_chromosomes, num_cities)\n",
    "\n",
    "    for iteration in range(num_iterations):\n",
    "        fitness_values = [1 / (1 + calculate_total_distance(chromosome, distance_matrix)) for chromosome in population]\n",
    "\n",
    "\n",
    "        # Elitism: Select the best chromosome\n",
    "        best_index = np.argmax(fitness_values)\n",
    "        next_population = [population[best_index]]\n",
    "\n",
    "        # Roulette-wheel selection and crossover\n",
    "        selected_population = roulette_wheel_selection(population, fitness_values)\n",
    "        for i in range(0, len(selected_population) - 1, 2):\n",
    "            parent1, parent2 = selected_population[i], selected_population[i + 1]\n",
    "            child1, child2 = crossover(parent1, parent2)\n",
    "            next_population.extend([child1, child2])\n",
    "\n",
    "        population = next_population\n",
    "\n",
    "    # Select the best solution\n",
    "    best_solution_index = np.argmax([calculate_total_distance(chromosome, distance_matrix) for chromosome in population])\n",
    "    best_solution = population[best_solution_index]\n",
    "\n",
    "    return best_solution\n",
    "\n",
    "\n"
   ]
  },
  {
   "cell_type": "code",
   "execution_count": 7,
   "id": "aca74898-132c-4d50-aa1f-55d77e037e34",
   "metadata": {},
   "outputs": [
    {
     "name": "stdout",
     "output_type": "stream",
     "text": [
      "Random Distance Matrix:\n",
      "[[ 0 93 41 70 63 63 56 86 43 38 10 92 25 85  9]\n",
      " [77  0 31 95 10 37 90 74 26 96 62 76 58 29 70]\n",
      " [51 18  0 23 58 96  6 13 82 51 96 52 12 27 82]\n",
      " [96 43 65  0 91 17 19 37 19 18 41 61  6 66 79]\n",
      " [37 63 38 97  0 12 58 30 12 96 23 83 95 58 80]\n",
      " [11 95 58 51 11  0 96 65 49 17 53 76 37 11 74]\n",
      " [64 22 82 70 64 29  0 53 65 90 21 80 28 57 35]\n",
      " [12 26 53 99 43 50 79  0 66 76 37 19 40 42 27]\n",
      " [70 20 70 69 49 34 40 10  0 36 69 70 83 96 68]\n",
      " [88 56  6 23 77 62 46 34  6  0 52 46 12 72 62]\n",
      " [90 41 19 98 74 68 23  7 32 32  0 10 99 74 50]\n",
      " [26 12 31  7 45  9 10 23 37 25 80  0 56 64 58]\n",
      " [22 18 41 91 75  6 84 80 65 17  5 43  0 53 75]\n",
      " [91 98 22 34 44 67 73  2 71 38 75 33 18  0 98]\n",
      " [99 33 16 53 24 43 70 87  3 26 28 67 53 68  0]]\n",
      "Best sequence of cities: [ 5  9  3 10  7 13  2 11 12  6 14  8  0  1  4]\n",
      "Total distance: 567\n"
     ]
    }
   ],
   "source": [
    "# Example usage:\n",
    "num_cities = 15\n",
    "num_iterations = 20\n",
    "num_chromosomes = 15\n",
    "\n",
    "# Generate a random distance matrix for demonstration purposes\n",
    "distance_matrix = np.random.randint(1, 100, size=(num_cities, num_cities))\n",
    "np.fill_diagonal(distance_matrix, 0)  # Set diagonal elements to 0\n",
    "\n",
    "print(\"Random Distance Matrix:\")\n",
    "print(distance_matrix)\n",
    "\n",
    "best_solution = genetic_algorithm(distance_matrix, num_iterations, num_chromosomes)\n",
    "print(\"Best sequence of cities:\", best_solution)\n",
    "print(\"Total distance:\", calculate_total_distance(best_solution, distance_matrix))\n"
   ]
  },
  {
   "cell_type": "code",
   "execution_count": null,
   "id": "a18c7ce2",
   "metadata": {},
   "outputs": [],
   "source": []
  }
 ],
 "metadata": {
  "kernelspec": {
   "display_name": "Python 3 (ipykernel)",
   "language": "python",
   "name": "python3"
  },
  "language_info": {
   "codemirror_mode": {
    "name": "ipython",
    "version": 3
   },
   "file_extension": ".py",
   "mimetype": "text/x-python",
   "name": "python",
   "nbconvert_exporter": "python",
   "pygments_lexer": "ipython3",
   "version": "3.11.5"
  }
 },
 "nbformat": 4,
 "nbformat_minor": 5
}
