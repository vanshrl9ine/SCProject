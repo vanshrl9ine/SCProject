{
 "cells": [
  {
   "cell_type": "code",
   "execution_count": 1,
   "id": "42231ef1",
   "metadata": {},
   "outputs": [],
   "source": [
    "import numpy as np"
   ]
  },
  {
   "cell_type": "code",
   "execution_count": 2,
   "id": "40c72c4f-2e55-4ee0-a74f-ea625780b3a4",
   "metadata": {},
   "outputs": [],
   "source": [
    "def calculate_total_distance(sequence, distance_matrix):\n",
    "    total_distance = 0\n",
    "    for i in range(len(sequence) - 1):\n",
    "        total_distance += distance_matrix[sequence[i]][sequence[i + 1]]\n",
    "    total_distance += distance_matrix[sequence[-1]][sequence[0]]  # Return to the starting city\n",
    "    return total_distance"
   ]
  },
  {
   "cell_type": "code",
   "execution_count": 3,
   "id": "8adc1286",
   "metadata": {},
   "outputs": [],
   "source": [
    "def initialize_population(num_chromosomes, num_cities):\n",
    "    population = []\n",
    "    for _ in range(num_chromosomes):\n",
    "        sequence = np.random.permutation(num_cities - 1) + 1  \n",
    "        sequence = np.insert(sequence, 0, 0)  \n",
    "        population.append(sequence)\n",
    "    return population\n",
    "\n"
   ]
  },
  {
   "cell_type": "code",
   "execution_count": 4,
   "id": "e16a4e51",
   "metadata": {},
   "outputs": [],
   "source": [
    "\n",
    "\n",
    "def roulette_wheel_selection(population, fitness_values):\n",
    "    fitness_values = np.array(fitness_values)  \n",
    "    probabilities = fitness_values / sum(fitness_values)\n",
    "    selected_indices = np.random.choice(len(population), size=len(population), p=probabilities)\n",
    "    return [population[i] for i in selected_indices]\n"
   ]
  },
  {
   "cell_type": "code",
   "execution_count": 5,
   "id": "a9e41af9-c72f-4405-94dd-0db0dde8c5d8",
   "metadata": {},
   "outputs": [],
   "source": [
    "def crossover(parent1, parent2):\n",
    "    crossover_point = np.random.randint(1, len(parent1))\n",
    "    child1 = np.concatenate((parent1[:crossover_point], [city for city in parent2 if city not in parent1[:crossover_point]]))\n",
    "    child2 = np.concatenate((parent2[:crossover_point], [city for city in parent1 if city not in parent2[:crossover_point]]))\n",
    "    return child1, child2\n",
    "\n"
   ]
  },
  {
   "cell_type": "code",
   "execution_count": 6,
   "id": "d3fb22d2-c301-4e51-b34d-43e5c080f889",
   "metadata": {},
   "outputs": [],
   "source": [
    "\n",
    "def genetic_algorithm(distance_matrix, num_iterations, num_chromosomes):\n",
    "    num_cities = len(distance_matrix)\n",
    "    population = initialize_population(num_chromosomes, num_cities)\n",
    "\n",
    "    for iteration in range(num_iterations):\n",
    "        fitness_values = [1 / (1 + calculate_total_distance(chromosome, distance_matrix)) for chromosome in population]\n",
    "\n",
    "\n",
    "        # Elitism: Select the best chromosome\n",
    "        best_index = np.argmax(fitness_values)\n",
    "        next_population = [population[best_index]]\n",
    "\n",
    "        # Roulette-wheel selection and crossover\n",
    "        selected_population = roulette_wheel_selection(population, fitness_values)\n",
    "        for i in range(0, len(selected_population) - 1, 2):\n",
    "            parent1, parent2 = selected_population[i], selected_population[i + 1]\n",
    "            child1, child2 = crossover(parent1, parent2)\n",
    "            next_population.extend([child1, child2])\n",
    "\n",
    "        population = next_population\n",
    "\n",
    "    # Select the best solution\n",
    "    best_solution_index = np.argmin([calculate_total_distance(chromosome, distance_matrix) for chromosome in population])\n",
    "    best_solution = population[best_solution_index]\n",
    "\n",
    "    return best_solution\n",
    "\n",
    "\n"
   ]
  },
  {
   "cell_type": "code",
   "execution_count": 7,
   "id": "aca74898-132c-4d50-aa1f-55d77e037e34",
   "metadata": {},
   "outputs": [
    {
     "name": "stdout",
     "output_type": "stream",
     "text": [
      "Distance Matrix:\n",
      "[[ 0 55 47 15 82 39 59 62 50 31 63  9 81 74  4]\n",
      " [10  0 16 23 59 28 76 19 38  3  5  7 36 95 51]\n",
      " [85 40  0 27 62 79 23 25 31 82 58 35 43 73 96]\n",
      " [15 58 94  0 30 58 80 74 92 18 74 84 50  5 15]\n",
      " [95  9 25 42  0 70 96 11 66 66 83 60 42 35 12]\n",
      " [17 42 85 12 52  0 69 72 79  5 20 85 76 61 21]\n",
      " [50 88  5 80 37 33  0 88 97 47 96  1 55 61 76]\n",
      " [96 84 84 43 34  6 20  0 62 78 20 90 38 66 93]\n",
      " [33 42 73  2 39 81 13 73  0 15 10 86 49 89 72]\n",
      " [83 37 55 38 42 62 20 98 11  0 63 70 51 70 57]\n",
      " [78 92 61  8 33  6 64 41 89 42  0 23 31 70 92]\n",
      " [44  6 96 55  3 34  3 89 19 47 32  0 15 15  8]\n",
      " [50 56 42 58 62 96 90 90 44 54 38 53  0 15 49]\n",
      " [16 61 54 90 10 67 91 31 38 40 35 76 56  0 22]\n",
      " [67 89 57 20 80 68 74 65 41 67 78 71 16  9  0]]\n",
      "Best sequence of cities: [ 0  5  9  8 10  3 13 14  2  6 11 12  7  4  1]\n",
      "Total distance: 339\n"
     ]
    }
   ],
   "source": [
    "# Example usage:\n",
    "num_cities = 15\n",
    "num_iterations = 20\n",
    "num_chromosomes = 15\n",
    "#you can check with different matrices.Note that edges are directed in our case\n",
    "distance_matrix = np.random.randint(1, 100, size=(num_cities, num_cities))\n",
    "np.fill_diagonal(distance_matrix, 0)\n",
    "\n",
    "print(\"Distance Matrix:\")\n",
    "print(distance_matrix)\n",
    "\n",
    "best_solution = genetic_algorithm(distance_matrix, num_iterations, num_chromosomes)\n",
    "print(\"Best sequence of cities:\", best_solution)\n",
    "print(\"Total distance:\", calculate_total_distance(best_solution, distance_matrix))\n"
   ]
  },
  {
   "cell_type": "code",
   "execution_count": null,
   "id": "c0787ac4",
   "metadata": {},
   "outputs": [],
   "source": []
  }
 ],
 "metadata": {
  "kernelspec": {
   "display_name": "Python 3 (ipykernel)",
   "language": "python",
   "name": "python3"
  },
  "language_info": {
   "codemirror_mode": {
    "name": "ipython",
    "version": 3
   },
   "file_extension": ".py",
   "mimetype": "text/x-python",
   "name": "python",
   "nbconvert_exporter": "python",
   "pygments_lexer": "ipython3",
   "version": "3.11.5"
  }
 },
 "nbformat": 4,
 "nbformat_minor": 5
}
