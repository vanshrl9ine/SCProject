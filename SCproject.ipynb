{
 "cells": [
  {
   "cell_type": "code",
   "execution_count": 1,
   "id": "42231ef1",
   "metadata": {},
   "outputs": [],
   "source": [
    "import numpy as np"
   ]
  },
  {
   "cell_type": "code",
   "execution_count": 2,
   "id": "40c72c4f-2e55-4ee0-a74f-ea625780b3a4",
   "metadata": {},
   "outputs": [],
   "source": [
    "def calculate_total_distance(sequence, distance_matrix):\n",
    "    total_distance = 0\n",
    "    for i in range(len(sequence) - 1):\n",
    "        total_distance += distance_matrix[sequence[i]][sequence[i + 1]]\n",
    "    total_distance += distance_matrix[sequence[-1]][sequence[0]]  # Return to the starting city\n",
    "    return total_distance"
   ]
  },
  {
   "cell_type": "code",
   "execution_count": 3,
   "id": "8adc1286",
   "metadata": {},
   "outputs": [],
   "source": [
    "\n",
    "def initialize_population(num_chromosomes, num_cities):\n",
    "    population = []\n",
    "    for _ in range(num_chromosomes):\n",
    "        sequence = np.random.permutation(num_cities)\n",
    "        population.append(sequence)\n",
    "    return population\n"
   ]
  },
  {
   "cell_type": "code",
   "execution_count": 4,
   "id": "e16a4e51",
   "metadata": {},
   "outputs": [],
   "source": [
    "\n",
    "def roulette_wheel_selection(population, fitness_values):\n",
    "    probabilities = fitness_values / sum(fitness_values)\n",
    "    selected_indices = np.random.choice(len(population), size=len(population), p=probabilities)\n",
    "    return [population[i] for i in selected_indices]\n",
    "\n"
   ]
  },
  {
   "cell_type": "code",
   "execution_count": 5,
   "id": "a9e41af9-c72f-4405-94dd-0db0dde8c5d8",
   "metadata": {},
   "outputs": [],
   "source": [
    "def crossover(parent1, parent2):\n",
    "    crossover_point = np.random.randint(1, len(parent1))\n",
    "    child1 = np.concatenate((parent1[:crossover_point], [city for city in parent2 if city not in parent1[:crossover_point]]))\n",
    "    child2 = np.concatenate((parent2[:crossover_point], [city for city in parent1 if city not in parent2[:crossover_point]]))\n",
    "    return child1, child2\n",
    "\n"
   ]
  },
  {
   "cell_type": "code",
   "execution_count": 6,
   "id": "d3fb22d2-c301-4e51-b34d-43e5c080f889",
   "metadata": {},
   "outputs": [],
   "source": [
    "\n",
    "def genetic_algorithm(distance_matrix, num_iterations, num_chromosomes):\n",
    "    num_cities = len(distance_matrix)\n",
    "    population = initialize_population(num_chromosomes, num_cities)\n",
    "\n",
    "    for iteration in range(num_iterations):\n",
    "        fitness_values = [1 / calculate_total_distance(chromosome, distance_matrix) for chromosome in population]\n",
    "\n",
    "        # Elitism: Select the best chromosome\n",
    "        best_index = np.argmax(fitness_values)\n",
    "        next_population = [population[best_index]]\n",
    "\n",
    "        # Roulette-wheel selection and crossover\n",
    "        selected_population = roulette_wheel_selection(population, fitness_values)\n",
    "        for i in range(0, len(selected_population) - 1, 2):\n",
    "            parent1, parent2 = selected_population[i], selected_population[i + 1]\n",
    "            child1, child2 = crossover(parent1, parent2)\n",
    "            next_population.extend([child1, child2])\n",
    "\n",
    "        population = next_population\n",
    "\n",
    "    # Select the best solution\n",
    "    best_solution_index = np.argmax([calculate_total_distance(chromosome, distance_matrix) for chromosome in population])\n",
    "    best_solution = population[best_solution_index]\n",
    "\n",
    "    return best_solution\n",
    "\n",
    "\n"
   ]
  },
  {
   "cell_type": "code",
   "execution_count": 7,
   "id": "aca74898-132c-4d50-aa1f-55d77e037e34",
   "metadata": {},
   "outputs": [
    {
     "name": "stdout",
     "output_type": "stream",
     "text": [
      "[[41 69 76 40 33 28 18 77 92 68 33 68 82  2 54]\n",
      " [69 58 71 42 59 32 38 72 38 78 62 13 23 22 24]\n",
      " [81 84 56 67  3 36 44 17 55  4 57 98 45 87 43]\n",
      " [17 65 18 48 43 80 98 83 31 51  8 50  3 49 38]\n",
      " [78 55  7 69 11  7 69  8 42 91 24 35 70 33  9]\n",
      " [20 41 39 98 43 59  2 90 44 88 63  5 83 91 80]\n",
      " [61 22 32 93 65 24 10 33 59 68 42 69 13 76 14]\n",
      " [50 99 40 91 11 51 73 77 16 96 62 43  3 37 58]\n",
      " [38 65 67 83 76 34 65 11 60 18 55  1 59 88 38]\n",
      " [45 56 72 33 55 55 60 74 19 76 76 45  6 99 87]\n",
      " [71 93 41 99 91 23 39  1 37 54 14 39 42 88 28]\n",
      " [80 52 76 58 55 50 26 71 90 81 48 56 84 25 11]\n",
      " [41 75 95 60 17  6 65 43 11 13 69 69 85 72 49]\n",
      " [25 47 14 56 90 77 34 68 45  6 57 25 98 84  7]\n",
      " [68 99 43 94 91 51 25 65 72 32 53 14 84 84 60]]\n",
      "Best sequence of cities: [14 13  0  4  5 11  3  6  2 10 12  1  7  8  9]\n",
      "Total distance: 709\n"
     ]
    }
   ],
   "source": [
    "# Example usage:\n",
    "num_cities = 15\n",
    "num_iterations = 20\n",
    "num_chromosomes = 15\n",
    "\n",
    "# Generate a random distance matrix for demonstration purposes\n",
    "distance_matrix = np.random.randint(1, 100, size=(num_cities, num_cities))\n",
    "print(distance_matrix)\n",
    "\n",
    "best_solution = genetic_algorithm(distance_matrix, num_iterations, num_chromosomes)\n",
    "print(\"Best sequence of cities:\", best_solution)\n",
    "print(\"Total distance:\", calculate_total_distance(best_solution, distance_matrix))"
   ]
  }
 ],
 "metadata": {
  "kernelspec": {
   "display_name": "Python 3 (ipykernel)",
   "language": "python",
   "name": "python3"
  },
  "language_info": {
   "codemirror_mode": {
    "name": "ipython",
    "version": 3
   },
   "file_extension": ".py",
   "mimetype": "text/x-python",
   "name": "python",
   "nbconvert_exporter": "python",
   "pygments_lexer": "ipython3",
   "version": "3.10.0"
  }
 },
 "nbformat": 4,
 "nbformat_minor": 5
}
