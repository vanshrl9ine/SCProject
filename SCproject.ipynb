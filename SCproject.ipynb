{
 "cells": [
  {
   "cell_type": "code",
   "execution_count": 1,
   "id": "42231ef1",
   "metadata": {},
   "outputs": [],
   "source": [
    "import numpy as np"
   ]
  },
  {
   "cell_type": "code",
   "execution_count": 2,
   "id": "40c72c4f-2e55-4ee0-a74f-ea625780b3a4",
   "metadata": {},
   "outputs": [],
   "source": [
    "def calculate_total_distance(sequence, distance_matrix):\n",
    "    total_distance = 0\n",
    "    for i in range(len(sequence) - 1):\n",
    "        total_distance += distance_matrix[sequence[i]][sequence[i + 1]]\n",
    "    total_distance += distance_matrix[sequence[-1]][sequence[0]]  # Return to the starting city\n",
    "    return total_distance"
   ]
  },
  {
   "cell_type": "code",
   "execution_count": 3,
   "id": "8adc1286",
   "metadata": {},
   "outputs": [],
   "source": [
    "def initialize_population(num_chromosomes, num_cities):\n",
    "    population = []\n",
    "    for _ in range(num_chromosomes):\n",
    "        sequence = np.random.permutation(num_cities - 1) + 1  \n",
    "        sequence = np.insert(sequence, 0, 0)  \n",
    "        population.append(sequence)\n",
    "    return population\n",
    "\n"
   ]
  },
  {
   "cell_type": "code",
   "execution_count": 4,
   "id": "e16a4e51",
   "metadata": {},
   "outputs": [],
   "source": [
    "\n",
    "\n",
    "def roulette_wheel_selection(population, fitness_values):\n",
    "    fitness_values = np.array(fitness_values)  \n",
    "    probabilities = fitness_values / sum(fitness_values)\n",
    "    selected_indices = np.random.choice(len(population), size=len(population), p=probabilities)\n",
    "    return [population[i] for i in selected_indices]\n"
   ]
  },
  {
   "cell_type": "code",
   "execution_count": 5,
   "id": "a9e41af9-c72f-4405-94dd-0db0dde8c5d8",
   "metadata": {},
   "outputs": [],
   "source": [
    "def crossover(parent1, parent2):\n",
    "    crossover_point = np.random.randint(1, len(parent1))\n",
    "    child1 = np.concatenate((parent1[:crossover_point], [city for city in parent2 if city not in parent1[:crossover_point]]))\n",
    "    child2 = np.concatenate((parent2[:crossover_point], [city for city in parent1 if city not in parent2[:crossover_point]]))\n",
    "    return child1, child2\n",
    "\n"
   ]
  },
  {
   "cell_type": "code",
   "execution_count": 6,
   "id": "d3fb22d2-c301-4e51-b34d-43e5c080f889",
   "metadata": {},
   "outputs": [],
   "source": [
    "\n",
    "def genetic_algorithm(distance_matrix, num_iterations, num_chromosomes):\n",
    "    num_cities = len(distance_matrix)\n",
    "    population = initialize_population(num_chromosomes, num_cities)\n",
    "\n",
    "    for iteration in range(num_iterations):\n",
    "        fitness_values = [1 / (1 + calculate_total_distance(chromosome, distance_matrix)) for chromosome in population]\n",
    "\n",
    "\n",
    "        # Elitism: Select the best chromosome\n",
    "        best_index = np.argmax(fitness_values)\n",
    "        next_population = [population[best_index]]\n",
    "\n",
    "        # Roulette-wheel selection and crossover\n",
    "        selected_population = roulette_wheel_selection(population, fitness_values)\n",
    "        for i in range(0, len(selected_population) - 1, 2):\n",
    "            parent1, parent2 = selected_population[i], selected_population[i + 1]\n",
    "            child1, child2 = crossover(parent1, parent2)\n",
    "            next_population.extend([child1, child2])\n",
    "\n",
    "        population = next_population\n",
    "\n",
    "    # Select the best solution\n",
    "    best_solution_index = np.argmin([calculate_total_distance(chromosome, distance_matrix) for chromosome in population])\n",
    "    best_solution = population[best_solution_index]\n",
    "\n",
    "    return best_solution\n",
    "\n",
    "\n"
   ]
  },
  {
   "cell_type": "code",
   "execution_count": 7,
   "id": "aca74898-132c-4d50-aa1f-55d77e037e34",
   "metadata": {},
   "outputs": [
    {
     "name": "stdout",
     "output_type": "stream",
     "text": [
      "Distance Matrix:\n",
      "[[0, 68, 86, 59, 87, 88, 49, 97, 2, 44, 3, 60, 98, 19, 33], [16, 0, 73, 61, 49, 77, 19, 66, 93, 8, 7, 29, 55, 80, 83], [22, 16, 0, 70, 42, 86, 61, 62, 25, 75, 31, 67, 78, 93, 23], [16, 94, 14, 0, 3, 40, 32, 86, 24, 92, 89, 17, 41, 50, 72], [63, 38, 49, 18, 0, 60, 30, 44, 69, 76, 64, 16, 27, 58, 33], [13, 54, 19, 21, 65, 0, 4, 98, 94, 40, 21, 47, 28, 37, 7], [45, 70, 54, 54, 32, 81, 0, 16, 57, 66, 1, 28, 12, 43, 68], [59, 55, 56, 28, 45, 37, 74, 0, 70, 6, 32, 74, 68, 88, 54], [34, 78, 86, 68, 88, 25, 23, 30, 0, 58, 38, 9, 3, 33, 8], [67, 79, 17, 50, 83, 5, 98, 77, 50, 0, 14, 39, 77, 61, 48], [86, 73, 45, 92, 33, 4, 62, 58, 5, 14, 0, 59, 33, 2, 92], [15, 33, 36, 67, 10, 15, 44, 13, 46, 11, 67, 0, 47, 35, 98], [8, 64, 20, 91, 49, 78, 86, 71, 86, 49, 27, 46, 0, 88, 85], [18, 18, 87, 49, 91, 70, 66, 50, 97, 77, 54, 30, 44, 0, 53], [18, 44, 5, 39, 71, 34, 9, 12, 28, 22, 62, 4, 71, 81, 0]]\n",
      "Best sequence of cities: [ 0  6 11  8  7  9 10 13 12  4  3  5  2 14  1]\n",
      "Total distance: 428\n"
     ]
    }
   ],
   "source": [
    "# Example usage:\n",
    "num_cities = 15\n",
    "num_iterations = 20\n",
    "num_chromosomes = 15\n",
    "\n",
    "#directed graph {i}[j]!=[j][i]\n",
    "distance_matrix = [\n",
    "    [0, 68, 86, 59, 87, 88, 49, 97, 2, 44, 3, 60, 98, 19, 33],\n",
    "    [16, 0, 73, 61, 49, 77, 19, 66, 93, 8, 7, 29, 55, 80, 83],\n",
    "    [22, 16, 0, 70, 42, 86, 61, 62, 25, 75, 31, 67, 78, 93, 23],\n",
    "    [16, 94, 14, 0, 3, 40, 32, 86, 24, 92, 89, 17, 41, 50, 72],\n",
    "    [63, 38, 49, 18, 0, 60, 30, 44, 69, 76, 64, 16, 27, 58, 33],\n",
    "    [13, 54, 19, 21, 65, 0, 4, 98, 94, 40, 21, 47, 28, 37, 7],\n",
    "    [45, 70, 54, 54, 32, 81, 0, 16, 57, 66, 1, 28, 12, 43, 68],\n",
    "    [59, 55, 56, 28, 45, 37, 74, 0, 70, 6, 32, 74, 68, 88, 54],\n",
    "    [34, 78, 86, 68, 88, 25, 23, 30, 0, 58, 38, 9, 3, 33, 8],\n",
    "    [67, 79, 17, 50, 83, 5, 98, 77, 50, 0, 14, 39, 77, 61, 48],\n",
    "    [86, 73, 45, 92, 33, 4, 62, 58, 5, 14, 0, 59, 33, 2, 92],\n",
    "    [15, 33, 36, 67, 10, 15, 44, 13, 46, 11, 67, 0, 47, 35, 98],\n",
    "    [8, 64, 20, 91, 49, 78, 86, 71, 86, 49, 27, 46, 0, 88, 85],\n",
    "    [18, 18, 87, 49, 91, 70, 66, 50, 97, 77, 54, 30, 44, 0, 53],\n",
    "    [18, 44, 5, 39, 71, 34, 9, 12, 28, 22, 62, 4, 71, 81, 0]\n",
    "]\n",
    "\n",
    "print(\"Distance Matrix:\")\n",
    "print(distance_matrix)\n",
    "\n",
    "best_solution = genetic_algorithm(distance_matrix, num_iterations, num_chromosomes)\n",
    "print(\"Best sequence of cities:\", best_solution)\n",
    "print(\"Total distance:\", calculate_total_distance(best_solution, distance_matrix))\n"
   ]
  },
  {
   "cell_type": "code",
   "execution_count": null,
   "id": "c0787ac4",
   "metadata": {},
   "outputs": [],
   "source": []
  }
 ],
 "metadata": {
  "kernelspec": {
   "display_name": "Python 3 (ipykernel)",
   "language": "python",
   "name": "python3"
  },
  "language_info": {
   "codemirror_mode": {
    "name": "ipython",
    "version": 3
   },
   "file_extension": ".py",
   "mimetype": "text/x-python",
   "name": "python",
   "nbconvert_exporter": "python",
   "pygments_lexer": "ipython3",
   "version": "3.11.5"
  }
 },
 "nbformat": 4,
 "nbformat_minor": 5
}
